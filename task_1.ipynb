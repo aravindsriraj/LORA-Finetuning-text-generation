{
  "cells": [
    {
      "cell_type": "markdown",
      "source": [
        "**Task 1:**\n",
        "\n",
        "**Problem Statement:**\n",
        "Develop a Google Colab notebook to fine-tune LORA adapters for text generation task with either a 3B model or a smaller model that accommodates the available GPU RAM. Utilise Hugging Face and PyTorch for implementation, and incorporate WandB for logging purposes. Provide the notebook link, wandb project link and include a screenshot of the convergence graph. You can pick any dataset for a creative text generation task and you should report the perplexity metric\n",
        "\n",
        "**Model Selected:** bigscience/bloomz-560m\n",
        "\n",
        "**Dataset Selected:** Amazon Polarity"
      ],
      "metadata": {
        "id": "sqcArul2Ak7E"
      },
      "id": "sqcArul2Ak7E"
    },
    {
      "cell_type": "markdown",
      "source": [
        "Installing Required Libraries"
      ],
      "metadata": {
        "id": "ntX47UWpAbNQ"
      },
      "id": "ntX47UWpAbNQ"
    },
    {
      "cell_type": "code",
      "execution_count": null,
      "id": "cda7cd5c",
      "metadata": {
        "execution": {
          "iopub.execute_input": "2024-01-20T17:48:54.766846Z",
          "iopub.status.busy": "2024-01-20T17:48:54.766466Z",
          "iopub.status.idle": "2024-01-20T17:50:52.776952Z",
          "shell.execute_reply": "2024-01-20T17:50:52.775780Z"
        },
        "papermill": {
          "duration": 118.021987,
          "end_time": "2024-01-20T17:50:52.779577",
          "exception": false,
          "start_time": "2024-01-20T17:48:54.757590",
          "status": "completed"
        },
        "tags": [],
        "id": "cda7cd5c",
        "outputId": "63893a8f-16bb-4dc4-e194-858fdada8d04"
      },
      "outputs": [
        {
          "name": "stdout",
          "output_type": "stream",
          "text": [
            "Requirement already satisfied: transformers==4.36.2 in /opt/conda/lib/python3.10/site-packages (4.36.2)\r\n",
            "Requirement already satisfied: filelock in /opt/conda/lib/python3.10/site-packages (from transformers==4.36.2) (3.12.2)\r\n",
            "Requirement already satisfied: huggingface-hub<1.0,>=0.19.3 in /opt/conda/lib/python3.10/site-packages (from transformers==4.36.2) (0.20.2)\r\n",
            "Requirement already satisfied: numpy>=1.17 in /opt/conda/lib/python3.10/site-packages (from transformers==4.36.2) (1.24.3)\r\n",
            "Requirement already satisfied: packaging>=20.0 in /opt/conda/lib/python3.10/site-packages (from transformers==4.36.2) (21.3)\r\n",
            "Requirement already satisfied: pyyaml>=5.1 in /opt/conda/lib/python3.10/site-packages (from transformers==4.36.2) (6.0.1)\r\n",
            "Requirement already satisfied: regex!=2019.12.17 in /opt/conda/lib/python3.10/site-packages (from transformers==4.36.2) (2023.8.8)\r\n",
            "Requirement already satisfied: requests in /opt/conda/lib/python3.10/site-packages (from transformers==4.36.2) (2.31.0)\r\n",
            "Requirement already satisfied: tokenizers<0.19,>=0.14 in /opt/conda/lib/python3.10/site-packages (from transformers==4.36.2) (0.15.0)\r\n",
            "Requirement already satisfied: safetensors>=0.3.1 in /opt/conda/lib/python3.10/site-packages (from transformers==4.36.2) (0.4.1)\r\n",
            "Requirement already satisfied: tqdm>=4.27 in /opt/conda/lib/python3.10/site-packages (from transformers==4.36.2) (4.66.1)\r\n",
            "Requirement already satisfied: fsspec>=2023.5.0 in /opt/conda/lib/python3.10/site-packages (from huggingface-hub<1.0,>=0.19.3->transformers==4.36.2) (2023.12.2)\r\n",
            "Requirement already satisfied: typing-extensions>=3.7.4.3 in /opt/conda/lib/python3.10/site-packages (from huggingface-hub<1.0,>=0.19.3->transformers==4.36.2) (4.5.0)\r\n",
            "Requirement already satisfied: pyparsing!=3.0.5,>=2.0.2 in /opt/conda/lib/python3.10/site-packages (from packaging>=20.0->transformers==4.36.2) (3.0.9)\r\n",
            "Requirement already satisfied: charset-normalizer<4,>=2 in /opt/conda/lib/python3.10/site-packages (from requests->transformers==4.36.2) (3.2.0)\r\n",
            "Requirement already satisfied: idna<4,>=2.5 in /opt/conda/lib/python3.10/site-packages (from requests->transformers==4.36.2) (3.4)\r\n",
            "Requirement already satisfied: urllib3<3,>=1.21.1 in /opt/conda/lib/python3.10/site-packages (from requests->transformers==4.36.2) (1.26.15)\r\n",
            "Requirement already satisfied: certifi>=2017.4.17 in /opt/conda/lib/python3.10/site-packages (from requests->transformers==4.36.2) (2023.11.17)\r\n",
            "Requirement already satisfied: accelerate==0.25.0 in /opt/conda/lib/python3.10/site-packages (0.25.0)\r\n",
            "Requirement already satisfied: numpy>=1.17 in /opt/conda/lib/python3.10/site-packages (from accelerate==0.25.0) (1.24.3)\r\n",
            "Requirement already satisfied: packaging>=20.0 in /opt/conda/lib/python3.10/site-packages (from accelerate==0.25.0) (21.3)\r\n",
            "Requirement already satisfied: psutil in /opt/conda/lib/python3.10/site-packages (from accelerate==0.25.0) (5.9.3)\r\n",
            "Requirement already satisfied: pyyaml in /opt/conda/lib/python3.10/site-packages (from accelerate==0.25.0) (6.0.1)\r\n",
            "Requirement already satisfied: torch>=1.10.0 in /opt/conda/lib/python3.10/site-packages (from accelerate==0.25.0) (2.0.0)\r\n",
            "Requirement already satisfied: huggingface-hub in /opt/conda/lib/python3.10/site-packages (from accelerate==0.25.0) (0.20.2)\r\n",
            "Requirement already satisfied: safetensors>=0.3.1 in /opt/conda/lib/python3.10/site-packages (from accelerate==0.25.0) (0.4.1)\r\n",
            "Requirement already satisfied: pyparsing!=3.0.5,>=2.0.2 in /opt/conda/lib/python3.10/site-packages (from packaging>=20.0->accelerate==0.25.0) (3.0.9)\r\n",
            "Requirement already satisfied: filelock in /opt/conda/lib/python3.10/site-packages (from torch>=1.10.0->accelerate==0.25.0) (3.12.2)\r\n",
            "Requirement already satisfied: typing-extensions in /opt/conda/lib/python3.10/site-packages (from torch>=1.10.0->accelerate==0.25.0) (4.5.0)\r\n",
            "Requirement already satisfied: sympy in /opt/conda/lib/python3.10/site-packages (from torch>=1.10.0->accelerate==0.25.0) (1.12)\r\n",
            "Requirement already satisfied: networkx in /opt/conda/lib/python3.10/site-packages (from torch>=1.10.0->accelerate==0.25.0) (3.1)\r\n",
            "Requirement already satisfied: jinja2 in /opt/conda/lib/python3.10/site-packages (from torch>=1.10.0->accelerate==0.25.0) (3.1.2)\r\n",
            "Requirement already satisfied: fsspec>=2023.5.0 in /opt/conda/lib/python3.10/site-packages (from huggingface-hub->accelerate==0.25.0) (2023.12.2)\r\n",
            "Requirement already satisfied: requests in /opt/conda/lib/python3.10/site-packages (from huggingface-hub->accelerate==0.25.0) (2.31.0)\r\n",
            "Requirement already satisfied: tqdm>=4.42.1 in /opt/conda/lib/python3.10/site-packages (from huggingface-hub->accelerate==0.25.0) (4.66.1)\r\n",
            "Requirement already satisfied: MarkupSafe>=2.0 in /opt/conda/lib/python3.10/site-packages (from jinja2->torch>=1.10.0->accelerate==0.25.0) (2.1.3)\r\n",
            "Requirement already satisfied: charset-normalizer<4,>=2 in /opt/conda/lib/python3.10/site-packages (from requests->huggingface-hub->accelerate==0.25.0) (3.2.0)\r\n",
            "Requirement already satisfied: idna<4,>=2.5 in /opt/conda/lib/python3.10/site-packages (from requests->huggingface-hub->accelerate==0.25.0) (3.4)\r\n",
            "Requirement already satisfied: urllib3<3,>=1.21.1 in /opt/conda/lib/python3.10/site-packages (from requests->huggingface-hub->accelerate==0.25.0) (1.26.15)\r\n",
            "Requirement already satisfied: certifi>=2017.4.17 in /opt/conda/lib/python3.10/site-packages (from requests->huggingface-hub->accelerate==0.25.0) (2023.11.17)\r\n",
            "Requirement already satisfied: mpmath>=0.19 in /opt/conda/lib/python3.10/site-packages (from sympy->torch>=1.10.0->accelerate==0.25.0) (1.3.0)\r\n",
            "Collecting datasets==2.15.0\r\n",
            "  Obtaining dependency information for datasets==2.15.0 from https://files.pythonhosted.org/packages/e2/cf/db41e572d7ed958e8679018f8190438ef700aeb501b62da9e1eed9e4d69a/datasets-2.15.0-py3-none-any.whl.metadata\r\n",
            "  Downloading datasets-2.15.0-py3-none-any.whl.metadata (20 kB)\r\n",
            "Requirement already satisfied: numpy>=1.17 in /opt/conda/lib/python3.10/site-packages (from datasets==2.15.0) (1.24.3)\r\n",
            "Requirement already satisfied: pyarrow>=8.0.0 in /opt/conda/lib/python3.10/site-packages (from datasets==2.15.0) (11.0.0)\r\n",
            "Collecting pyarrow-hotfix (from datasets==2.15.0)\r\n",
            "  Obtaining dependency information for pyarrow-hotfix from https://files.pythonhosted.org/packages/e4/f4/9ec2222f5f5f8ea04f66f184caafd991a39c8782e31f5b0266f101cb68ca/pyarrow_hotfix-0.6-py3-none-any.whl.metadata\r\n",
            "  Downloading pyarrow_hotfix-0.6-py3-none-any.whl.metadata (3.6 kB)\r\n",
            "Requirement already satisfied: dill<0.3.8,>=0.3.0 in /opt/conda/lib/python3.10/site-packages (from datasets==2.15.0) (0.3.7)\r\n",
            "Requirement already satisfied: pandas in /opt/conda/lib/python3.10/site-packages (from datasets==2.15.0) (2.0.3)\r\n",
            "Requirement already satisfied: requests>=2.19.0 in /opt/conda/lib/python3.10/site-packages (from datasets==2.15.0) (2.31.0)\r\n",
            "Requirement already satisfied: tqdm>=4.62.1 in /opt/conda/lib/python3.10/site-packages (from datasets==2.15.0) (4.66.1)\r\n",
            "Requirement already satisfied: xxhash in /opt/conda/lib/python3.10/site-packages (from datasets==2.15.0) (3.4.1)\r\n",
            "Requirement already satisfied: multiprocess in /opt/conda/lib/python3.10/site-packages (from datasets==2.15.0) (0.70.15)\r\n",
            "Collecting fsspec[http]<=2023.10.0,>=2023.1.0 (from datasets==2.15.0)\r\n",
            "  Obtaining dependency information for fsspec[http]<=2023.10.0,>=2023.1.0 from https://files.pythonhosted.org/packages/e8/f6/3eccfb530aac90ad1301c582da228e4763f19e719ac8200752a4841b0b2d/fsspec-2023.10.0-py3-none-any.whl.metadata\r\n",
            "  Downloading fsspec-2023.10.0-py3-none-any.whl.metadata (6.8 kB)\r\n",
            "Requirement already satisfied: aiohttp in /opt/conda/lib/python3.10/site-packages (from datasets==2.15.0) (3.8.5)\r\n",
            "Requirement already satisfied: huggingface-hub>=0.18.0 in /opt/conda/lib/python3.10/site-packages (from datasets==2.15.0) (0.20.2)\r\n",
            "Requirement already satisfied: packaging in /opt/conda/lib/python3.10/site-packages (from datasets==2.15.0) (21.3)\r\n",
            "Requirement already satisfied: pyyaml>=5.1 in /opt/conda/lib/python3.10/site-packages (from datasets==2.15.0) (6.0.1)\r\n",
            "Requirement already satisfied: attrs>=17.3.0 in /opt/conda/lib/python3.10/site-packages (from aiohttp->datasets==2.15.0) (23.1.0)\r\n",
            "Requirement already satisfied: charset-normalizer<4.0,>=2.0 in /opt/conda/lib/python3.10/site-packages (from aiohttp->datasets==2.15.0) (3.2.0)\r\n",
            "Requirement already satisfied: multidict<7.0,>=4.5 in /opt/conda/lib/python3.10/site-packages (from aiohttp->datasets==2.15.0) (6.0.4)\r\n",
            "Requirement already satisfied: async-timeout<5.0,>=4.0.0a3 in /opt/conda/lib/python3.10/site-packages (from aiohttp->datasets==2.15.0) (4.0.3)\r\n",
            "Requirement already satisfied: yarl<2.0,>=1.0 in /opt/conda/lib/python3.10/site-packages (from aiohttp->datasets==2.15.0) (1.9.2)\r\n",
            "Requirement already satisfied: frozenlist>=1.1.1 in /opt/conda/lib/python3.10/site-packages (from aiohttp->datasets==2.15.0) (1.4.0)\r\n",
            "Requirement already satisfied: aiosignal>=1.1.2 in /opt/conda/lib/python3.10/site-packages (from aiohttp->datasets==2.15.0) (1.3.1)\r\n",
            "Requirement already satisfied: filelock in /opt/conda/lib/python3.10/site-packages (from huggingface-hub>=0.18.0->datasets==2.15.0) (3.12.2)\r\n",
            "Requirement already satisfied: typing-extensions>=3.7.4.3 in /opt/conda/lib/python3.10/site-packages (from huggingface-hub>=0.18.0->datasets==2.15.0) (4.5.0)\r\n",
            "Requirement already satisfied: pyparsing!=3.0.5,>=2.0.2 in /opt/conda/lib/python3.10/site-packages (from packaging->datasets==2.15.0) (3.0.9)\r\n",
            "Requirement already satisfied: idna<4,>=2.5 in /opt/conda/lib/python3.10/site-packages (from requests>=2.19.0->datasets==2.15.0) (3.4)\r\n",
            "Requirement already satisfied: urllib3<3,>=1.21.1 in /opt/conda/lib/python3.10/site-packages (from requests>=2.19.0->datasets==2.15.0) (1.26.15)\r\n",
            "Requirement already satisfied: certifi>=2017.4.17 in /opt/conda/lib/python3.10/site-packages (from requests>=2.19.0->datasets==2.15.0) (2023.11.17)\r\n",
            "Requirement already satisfied: python-dateutil>=2.8.2 in /opt/conda/lib/python3.10/site-packages (from pandas->datasets==2.15.0) (2.8.2)\r\n",
            "Requirement already satisfied: pytz>=2020.1 in /opt/conda/lib/python3.10/site-packages (from pandas->datasets==2.15.0) (2023.3)\r\n",
            "Requirement already satisfied: tzdata>=2022.1 in /opt/conda/lib/python3.10/site-packages (from pandas->datasets==2.15.0) (2023.3)\r\n",
            "Requirement already satisfied: six>=1.5 in /opt/conda/lib/python3.10/site-packages (from python-dateutil>=2.8.2->pandas->datasets==2.15.0) (1.16.0)\r\n",
            "Downloading datasets-2.15.0-py3-none-any.whl (521 kB)\r\n",
            "\u001b[2K   \u001b[90m━━━━━━━━━━━━━━━━━━━━━━━━━━━━━━━━━━━━━━━━\u001b[0m \u001b[32m521.2/521.2 kB\u001b[0m \u001b[31m11.6 MB/s\u001b[0m eta \u001b[36m0:00:00\u001b[0m\r\n",
            "\u001b[?25hDownloading pyarrow_hotfix-0.6-py3-none-any.whl (7.9 kB)\r\n",
            "Downloading fsspec-2023.10.0-py3-none-any.whl (166 kB)\r\n",
            "\u001b[2K   \u001b[90m━━━━━━━━━━━━━━━━━━━━━━━━━━━━━━━━━━━━━━━━\u001b[0m \u001b[32m166.4/166.4 kB\u001b[0m \u001b[31m17.7 MB/s\u001b[0m eta \u001b[36m0:00:00\u001b[0m\r\n",
            "\u001b[?25hInstalling collected packages: pyarrow-hotfix, fsspec, datasets\r\n",
            "  Attempting uninstall: fsspec\r\n",
            "    Found existing installation: fsspec 2023.12.2\r\n",
            "    Uninstalling fsspec-2023.12.2:\r\n",
            "      Successfully uninstalled fsspec-2023.12.2\r\n",
            "  Attempting uninstall: datasets\r\n",
            "    Found existing installation: datasets 2.1.0\r\n",
            "    Uninstalling datasets-2.1.0:\r\n",
            "      Successfully uninstalled datasets-2.1.0\r\n",
            "\u001b[31mERROR: pip's dependency resolver does not currently take into account all the packages that are installed. This behaviour is the source of the following dependency conflicts.\r\n",
            "cudf 23.8.0 requires cupy-cuda11x>=12.0.0, which is not installed.\r\n",
            "cuml 23.8.0 requires cupy-cuda11x>=12.0.0, which is not installed.\r\n",
            "dask-cudf 23.8.0 requires cupy-cuda11x>=12.0.0, which is not installed.\r\n",
            "cudf 23.8.0 requires pandas<1.6.0dev0,>=1.3, but you have pandas 2.0.3 which is incompatible.\r\n",
            "cudf 23.8.0 requires protobuf<5,>=4.21, but you have protobuf 3.20.3 which is incompatible.\r\n",
            "cuml 23.8.0 requires dask==2023.7.1, but you have dask 2023.12.1 which is incompatible.\r\n",
            "cuml 23.8.0 requires distributed==2023.7.1, but you have distributed 2023.12.1 which is incompatible.\r\n",
            "dask-cuda 23.8.0 requires dask==2023.7.1, but you have dask 2023.12.1 which is incompatible.\r\n",
            "dask-cuda 23.8.0 requires distributed==2023.7.1, but you have distributed 2023.12.1 which is incompatible.\r\n",
            "dask-cuda 23.8.0 requires pandas<1.6.0dev0,>=1.3, but you have pandas 2.0.3 which is incompatible.\r\n",
            "dask-cudf 23.8.0 requires dask==2023.7.1, but you have dask 2023.12.1 which is incompatible.\r\n",
            "dask-cudf 23.8.0 requires distributed==2023.7.1, but you have distributed 2023.12.1 which is incompatible.\r\n",
            "dask-cudf 23.8.0 requires pandas<1.6.0dev0,>=1.3, but you have pandas 2.0.3 which is incompatible.\r\n",
            "gcsfs 2023.6.0 requires fsspec==2023.6.0, but you have fsspec 2023.10.0 which is incompatible.\r\n",
            "raft-dask 23.8.0 requires dask==2023.7.1, but you have dask 2023.12.1 which is incompatible.\r\n",
            "raft-dask 23.8.0 requires distributed==2023.7.1, but you have distributed 2023.12.1 which is incompatible.\r\n",
            "s3fs 2023.12.2 requires fsspec==2023.12.2, but you have fsspec 2023.10.0 which is incompatible.\u001b[0m\u001b[31m\r\n",
            "\u001b[0mSuccessfully installed datasets-2.15.0 fsspec-2023.10.0 pyarrow-hotfix-0.6\r\n",
            "Collecting peft==0.7.1\r\n",
            "  Obtaining dependency information for peft==0.7.1 from https://files.pythonhosted.org/packages/8b/1b/aee2a330d050c493642d59ba6af51f3910cb138ea48ede228c84c204a5af/peft-0.7.1-py3-none-any.whl.metadata\r\n",
            "  Downloading peft-0.7.1-py3-none-any.whl.metadata (25 kB)\r\n",
            "Requirement already satisfied: numpy>=1.17 in /opt/conda/lib/python3.10/site-packages (from peft==0.7.1) (1.24.3)\r\n",
            "Requirement already satisfied: packaging>=20.0 in /opt/conda/lib/python3.10/site-packages (from peft==0.7.1) (21.3)\r\n",
            "Requirement already satisfied: psutil in /opt/conda/lib/python3.10/site-packages (from peft==0.7.1) (5.9.3)\r\n",
            "Requirement already satisfied: pyyaml in /opt/conda/lib/python3.10/site-packages (from peft==0.7.1) (6.0.1)\r\n",
            "Requirement already satisfied: torch>=1.13.0 in /opt/conda/lib/python3.10/site-packages (from peft==0.7.1) (2.0.0)\r\n",
            "Requirement already satisfied: transformers in /opt/conda/lib/python3.10/site-packages (from peft==0.7.1) (4.36.2)\r\n",
            "Requirement already satisfied: tqdm in /opt/conda/lib/python3.10/site-packages (from peft==0.7.1) (4.66.1)\r\n",
            "Requirement already satisfied: accelerate>=0.21.0 in /opt/conda/lib/python3.10/site-packages (from peft==0.7.1) (0.25.0)\r\n",
            "Requirement already satisfied: safetensors in /opt/conda/lib/python3.10/site-packages (from peft==0.7.1) (0.4.1)\r\n",
            "Requirement already satisfied: huggingface-hub>=0.17.0 in /opt/conda/lib/python3.10/site-packages (from peft==0.7.1) (0.20.2)\r\n",
            "Requirement already satisfied: filelock in /opt/conda/lib/python3.10/site-packages (from huggingface-hub>=0.17.0->peft==0.7.1) (3.12.2)\r\n",
            "Requirement already satisfied: fsspec>=2023.5.0 in /opt/conda/lib/python3.10/site-packages (from huggingface-hub>=0.17.0->peft==0.7.1) (2023.10.0)\r\n",
            "Requirement already satisfied: requests in /opt/conda/lib/python3.10/site-packages (from huggingface-hub>=0.17.0->peft==0.7.1) (2.31.0)\r\n",
            "Requirement already satisfied: typing-extensions>=3.7.4.3 in /opt/conda/lib/python3.10/site-packages (from huggingface-hub>=0.17.0->peft==0.7.1) (4.5.0)\r\n",
            "Requirement already satisfied: pyparsing!=3.0.5,>=2.0.2 in /opt/conda/lib/python3.10/site-packages (from packaging>=20.0->peft==0.7.1) (3.0.9)\r\n",
            "Requirement already satisfied: sympy in /opt/conda/lib/python3.10/site-packages (from torch>=1.13.0->peft==0.7.1) (1.12)\r\n",
            "Requirement already satisfied: networkx in /opt/conda/lib/python3.10/site-packages (from torch>=1.13.0->peft==0.7.1) (3.1)\r\n",
            "Requirement already satisfied: jinja2 in /opt/conda/lib/python3.10/site-packages (from torch>=1.13.0->peft==0.7.1) (3.1.2)\r\n",
            "Requirement already satisfied: regex!=2019.12.17 in /opt/conda/lib/python3.10/site-packages (from transformers->peft==0.7.1) (2023.8.8)\r\n",
            "Requirement already satisfied: tokenizers<0.19,>=0.14 in /opt/conda/lib/python3.10/site-packages (from transformers->peft==0.7.1) (0.15.0)\r\n",
            "Requirement already satisfied: MarkupSafe>=2.0 in /opt/conda/lib/python3.10/site-packages (from jinja2->torch>=1.13.0->peft==0.7.1) (2.1.3)\r\n",
            "Requirement already satisfied: charset-normalizer<4,>=2 in /opt/conda/lib/python3.10/site-packages (from requests->huggingface-hub>=0.17.0->peft==0.7.1) (3.2.0)\r\n",
            "Requirement already satisfied: idna<4,>=2.5 in /opt/conda/lib/python3.10/site-packages (from requests->huggingface-hub>=0.17.0->peft==0.7.1) (3.4)\r\n",
            "Requirement already satisfied: urllib3<3,>=1.21.1 in /opt/conda/lib/python3.10/site-packages (from requests->huggingface-hub>=0.17.0->peft==0.7.1) (1.26.15)\r\n",
            "Requirement already satisfied: certifi>=2017.4.17 in /opt/conda/lib/python3.10/site-packages (from requests->huggingface-hub>=0.17.0->peft==0.7.1) (2023.11.17)\r\n",
            "Requirement already satisfied: mpmath>=0.19 in /opt/conda/lib/python3.10/site-packages (from sympy->torch>=1.13.0->peft==0.7.1) (1.3.0)\r\n",
            "Downloading peft-0.7.1-py3-none-any.whl (168 kB)\r\n",
            "\u001b[2K   \u001b[90m━━━━━━━━━━━━━━━━━━━━━━━━━━━━━━━━━━━━━━━━\u001b[0m \u001b[32m168.3/168.3 kB\u001b[0m \u001b[31m11.6 MB/s\u001b[0m eta \u001b[36m0:00:00\u001b[0m\r\n",
            "\u001b[?25hInstalling collected packages: peft\r\n",
            "Successfully installed peft-0.7.1\r\n",
            "Collecting bitsandbytes==0.41.3\r\n",
            "  Obtaining dependency information for bitsandbytes==0.41.3 from https://files.pythonhosted.org/packages/1b/db/1a3c0d3542484806c273e8027a328b12be69c1042bb9e134efe93ddf9b50/bitsandbytes-0.41.3-py3-none-any.whl.metadata\r\n",
            "  Downloading bitsandbytes-0.41.3-py3-none-any.whl.metadata (9.8 kB)\r\n",
            "Downloading bitsandbytes-0.41.3-py3-none-any.whl (92.6 MB)\r\n",
            "\u001b[2K   \u001b[90m━━━━━━━━━━━━━━━━━━━━━━━━━━━━━━━━━━━━━━━━\u001b[0m \u001b[32m92.6/92.6 MB\u001b[0m \u001b[31m14.5 MB/s\u001b[0m eta \u001b[36m0:00:00\u001b[0m\r\n",
            "\u001b[?25hInstalling collected packages: bitsandbytes\r\n",
            "Successfully installed bitsandbytes-0.41.3\r\n",
            "Collecting trl==0.7.7\r\n",
            "  Obtaining dependency information for trl==0.7.7 from https://files.pythonhosted.org/packages/e8/c2/4c27977024023c762564ab74f8ac39cbf04b8e886300cde1f5a59a5e9573/trl-0.7.7-py3-none-any.whl.metadata\r\n",
            "  Downloading trl-0.7.7-py3-none-any.whl.metadata (10 kB)\r\n",
            "Requirement already satisfied: torch>=1.4.0 in /opt/conda/lib/python3.10/site-packages (from trl==0.7.7) (2.0.0)\r\n",
            "Requirement already satisfied: transformers>=4.31.0 in /opt/conda/lib/python3.10/site-packages (from trl==0.7.7) (4.36.2)\r\n",
            "Requirement already satisfied: numpy>=1.18.2 in /opt/conda/lib/python3.10/site-packages (from trl==0.7.7) (1.24.3)\r\n",
            "Requirement already satisfied: accelerate in /opt/conda/lib/python3.10/site-packages (from trl==0.7.7) (0.25.0)\r\n",
            "Requirement already satisfied: datasets in /opt/conda/lib/python3.10/site-packages (from trl==0.7.7) (2.15.0)\r\n",
            "Collecting tyro>=0.5.11 (from trl==0.7.7)\r\n",
            "  Obtaining dependency information for tyro>=0.5.11 from https://files.pythonhosted.org/packages/96/b4/467ae1bb12b2e7fd71262a19b1b4a83cadd59826ad8f444cfa3fab89f634/tyro-0.6.6-py3-none-any.whl.metadata\r\n",
            "  Downloading tyro-0.6.6-py3-none-any.whl.metadata (7.7 kB)\r\n",
            "Requirement already satisfied: filelock in /opt/conda/lib/python3.10/site-packages (from torch>=1.4.0->trl==0.7.7) (3.12.2)\r\n",
            "Requirement already satisfied: typing-extensions in /opt/conda/lib/python3.10/site-packages (from torch>=1.4.0->trl==0.7.7) (4.5.0)\r\n",
            "Requirement already satisfied: sympy in /opt/conda/lib/python3.10/site-packages (from torch>=1.4.0->trl==0.7.7) (1.12)\r\n",
            "Requirement already satisfied: networkx in /opt/conda/lib/python3.10/site-packages (from torch>=1.4.0->trl==0.7.7) (3.1)\r\n",
            "Requirement already satisfied: jinja2 in /opt/conda/lib/python3.10/site-packages (from torch>=1.4.0->trl==0.7.7) (3.1.2)\r\n",
            "Requirement already satisfied: huggingface-hub<1.0,>=0.19.3 in /opt/conda/lib/python3.10/site-packages (from transformers>=4.31.0->trl==0.7.7) (0.20.2)\r\n",
            "Requirement already satisfied: packaging>=20.0 in /opt/conda/lib/python3.10/site-packages (from transformers>=4.31.0->trl==0.7.7) (21.3)\r\n",
            "Requirement already satisfied: pyyaml>=5.1 in /opt/conda/lib/python3.10/site-packages (from transformers>=4.31.0->trl==0.7.7) (6.0.1)\r\n",
            "Requirement already satisfied: regex!=2019.12.17 in /opt/conda/lib/python3.10/site-packages (from transformers>=4.31.0->trl==0.7.7) (2023.8.8)\r\n",
            "Requirement already satisfied: requests in /opt/conda/lib/python3.10/site-packages (from transformers>=4.31.0->trl==0.7.7) (2.31.0)\r\n",
            "Requirement already satisfied: tokenizers<0.19,>=0.14 in /opt/conda/lib/python3.10/site-packages (from transformers>=4.31.0->trl==0.7.7) (0.15.0)\r\n",
            "Requirement already satisfied: safetensors>=0.3.1 in /opt/conda/lib/python3.10/site-packages (from transformers>=4.31.0->trl==0.7.7) (0.4.1)\r\n",
            "Requirement already satisfied: tqdm>=4.27 in /opt/conda/lib/python3.10/site-packages (from transformers>=4.31.0->trl==0.7.7) (4.66.1)\r\n",
            "Requirement already satisfied: docstring-parser>=0.14.1 in /opt/conda/lib/python3.10/site-packages (from tyro>=0.5.11->trl==0.7.7) (0.15)\r\n",
            "Requirement already satisfied: rich>=11.1.0 in /opt/conda/lib/python3.10/site-packages (from tyro>=0.5.11->trl==0.7.7) (13.5.2)\r\n",
            "Collecting shtab>=1.5.6 (from tyro>=0.5.11->trl==0.7.7)\r\n",
            "  Obtaining dependency information for shtab>=1.5.6 from https://files.pythonhosted.org/packages/40/ad/7227da64498eaa7abecee4311008f70869e156014b3270cec36e2e70cd31/shtab-1.6.5-py3-none-any.whl.metadata\r\n",
            "  Downloading shtab-1.6.5-py3-none-any.whl.metadata (7.3 kB)\r\n",
            "Requirement already satisfied: psutil in /opt/conda/lib/python3.10/site-packages (from accelerate->trl==0.7.7) (5.9.3)\r\n",
            "Requirement already satisfied: pyarrow>=8.0.0 in /opt/conda/lib/python3.10/site-packages (from datasets->trl==0.7.7) (11.0.0)\r\n",
            "Requirement already satisfied: pyarrow-hotfix in /opt/conda/lib/python3.10/site-packages (from datasets->trl==0.7.7) (0.6)\r\n",
            "Requirement already satisfied: dill<0.3.8,>=0.3.0 in /opt/conda/lib/python3.10/site-packages (from datasets->trl==0.7.7) (0.3.7)\r\n",
            "Requirement already satisfied: pandas in /opt/conda/lib/python3.10/site-packages (from datasets->trl==0.7.7) (2.0.3)\r\n",
            "Requirement already satisfied: xxhash in /opt/conda/lib/python3.10/site-packages (from datasets->trl==0.7.7) (3.4.1)\r\n",
            "Requirement already satisfied: multiprocess in /opt/conda/lib/python3.10/site-packages (from datasets->trl==0.7.7) (0.70.15)\r\n",
            "Requirement already satisfied: fsspec[http]<=2023.10.0,>=2023.1.0 in /opt/conda/lib/python3.10/site-packages (from datasets->trl==0.7.7) (2023.10.0)\r\n",
            "Requirement already satisfied: aiohttp in /opt/conda/lib/python3.10/site-packages (from datasets->trl==0.7.7) (3.8.5)\r\n",
            "Requirement already satisfied: attrs>=17.3.0 in /opt/conda/lib/python3.10/site-packages (from aiohttp->datasets->trl==0.7.7) (23.1.0)\r\n",
            "Requirement already satisfied: charset-normalizer<4.0,>=2.0 in /opt/conda/lib/python3.10/site-packages (from aiohttp->datasets->trl==0.7.7) (3.2.0)\r\n",
            "Requirement already satisfied: multidict<7.0,>=4.5 in /opt/conda/lib/python3.10/site-packages (from aiohttp->datasets->trl==0.7.7) (6.0.4)\r\n",
            "Requirement already satisfied: async-timeout<5.0,>=4.0.0a3 in /opt/conda/lib/python3.10/site-packages (from aiohttp->datasets->trl==0.7.7) (4.0.3)\r\n",
            "Requirement already satisfied: yarl<2.0,>=1.0 in /opt/conda/lib/python3.10/site-packages (from aiohttp->datasets->trl==0.7.7) (1.9.2)\r\n",
            "Requirement already satisfied: frozenlist>=1.1.1 in /opt/conda/lib/python3.10/site-packages (from aiohttp->datasets->trl==0.7.7) (1.4.0)\r\n",
            "Requirement already satisfied: aiosignal>=1.1.2 in /opt/conda/lib/python3.10/site-packages (from aiohttp->datasets->trl==0.7.7) (1.3.1)\r\n",
            "Requirement already satisfied: pyparsing!=3.0.5,>=2.0.2 in /opt/conda/lib/python3.10/site-packages (from packaging>=20.0->transformers>=4.31.0->trl==0.7.7) (3.0.9)\r\n",
            "Requirement already satisfied: idna<4,>=2.5 in /opt/conda/lib/python3.10/site-packages (from requests->transformers>=4.31.0->trl==0.7.7) (3.4)\r\n",
            "Requirement already satisfied: urllib3<3,>=1.21.1 in /opt/conda/lib/python3.10/site-packages (from requests->transformers>=4.31.0->trl==0.7.7) (1.26.15)\r\n",
            "Requirement already satisfied: certifi>=2017.4.17 in /opt/conda/lib/python3.10/site-packages (from requests->transformers>=4.31.0->trl==0.7.7) (2023.11.17)\r\n",
            "Requirement already satisfied: markdown-it-py>=2.2.0 in /opt/conda/lib/python3.10/site-packages (from rich>=11.1.0->tyro>=0.5.11->trl==0.7.7) (3.0.0)\r\n",
            "Requirement already satisfied: pygments<3.0.0,>=2.13.0 in /opt/conda/lib/python3.10/site-packages (from rich>=11.1.0->tyro>=0.5.11->trl==0.7.7) (2.16.1)\r\n",
            "Requirement already satisfied: MarkupSafe>=2.0 in /opt/conda/lib/python3.10/site-packages (from jinja2->torch>=1.4.0->trl==0.7.7) (2.1.3)\r\n",
            "Requirement already satisfied: python-dateutil>=2.8.2 in /opt/conda/lib/python3.10/site-packages (from pandas->datasets->trl==0.7.7) (2.8.2)\r\n",
            "Requirement already satisfied: pytz>=2020.1 in /opt/conda/lib/python3.10/site-packages (from pandas->datasets->trl==0.7.7) (2023.3)\r\n",
            "Requirement already satisfied: tzdata>=2022.1 in /opt/conda/lib/python3.10/site-packages (from pandas->datasets->trl==0.7.7) (2023.3)\r\n",
            "Requirement already satisfied: mpmath>=0.19 in /opt/conda/lib/python3.10/site-packages (from sympy->torch>=1.4.0->trl==0.7.7) (1.3.0)\r\n",
            "Requirement already satisfied: mdurl~=0.1 in /opt/conda/lib/python3.10/site-packages (from markdown-it-py>=2.2.0->rich>=11.1.0->tyro>=0.5.11->trl==0.7.7) (0.1.2)\r\n",
            "Requirement already satisfied: six>=1.5 in /opt/conda/lib/python3.10/site-packages (from python-dateutil>=2.8.2->pandas->datasets->trl==0.7.7) (1.16.0)\r\n",
            "Downloading trl-0.7.7-py3-none-any.whl (139 kB)\r\n",
            "\u001b[2K   \u001b[90m━━━━━━━━━━━━━━━━━━━━━━━━━━━━━━━━━━━━━━━━\u001b[0m \u001b[32m139.1/139.1 kB\u001b[0m \u001b[31m7.6 MB/s\u001b[0m eta \u001b[36m0:00:00\u001b[0m\r\n",
            "\u001b[?25hDownloading tyro-0.6.6-py3-none-any.whl (79 kB)\r\n",
            "\u001b[2K   \u001b[90m━━━━━━━━━━━━━━━━━━━━━━━━━━━━━━━━━━━━━━━━\u001b[0m \u001b[32m79.6/79.6 kB\u001b[0m \u001b[31m10.1 MB/s\u001b[0m eta \u001b[36m0:00:00\u001b[0m\r\n",
            "\u001b[?25hDownloading shtab-1.6.5-py3-none-any.whl (13 kB)\r\n",
            "Installing collected packages: shtab, tyro, trl\r\n",
            "Successfully installed shtab-1.6.5 trl-0.7.7 tyro-0.6.6\r\n",
            "Requirement already satisfied: tqdm==4.66.1 in /opt/conda/lib/python3.10/site-packages (4.66.1)\r\n",
            "Collecting flash-attn==2.4.2\r\n",
            "  Downloading flash_attn-2.4.2.tar.gz (2.4 MB)\r\n",
            "\u001b[2K     \u001b[90m━━━━━━━━━━━━━━━━━━━━━━━━━━━━━━━━━━━━━━━━\u001b[0m \u001b[32m2.4/2.4 MB\u001b[0m \u001b[31m34.1 MB/s\u001b[0m eta \u001b[36m0:00:00\u001b[0m\r\n",
            "\u001b[?25h  Preparing metadata (setup.py) ... \u001b[?25l-\b \b\\\b \b|\b \bdone\r\n",
            "\u001b[?25hRequirement already satisfied: torch in /opt/conda/lib/python3.10/site-packages (from flash-attn==2.4.2) (2.0.0)\r\n",
            "Collecting einops (from flash-attn==2.4.2)\r\n",
            "  Obtaining dependency information for einops from https://files.pythonhosted.org/packages/29/0b/2d1c0ebfd092e25935b86509a9a817159212d82aa43d7fb07eca4eeff2c2/einops-0.7.0-py3-none-any.whl.metadata\r\n",
            "  Downloading einops-0.7.0-py3-none-any.whl.metadata (13 kB)\r\n",
            "Requirement already satisfied: packaging in /opt/conda/lib/python3.10/site-packages (from flash-attn==2.4.2) (21.3)\r\n",
            "Requirement already satisfied: ninja in /opt/conda/lib/python3.10/site-packages (from flash-attn==2.4.2) (1.11.1.1)\r\n",
            "Requirement already satisfied: pyparsing!=3.0.5,>=2.0.2 in /opt/conda/lib/python3.10/site-packages (from packaging->flash-attn==2.4.2) (3.0.9)\r\n",
            "Requirement already satisfied: filelock in /opt/conda/lib/python3.10/site-packages (from torch->flash-attn==2.4.2) (3.12.2)\r\n",
            "Requirement already satisfied: typing-extensions in /opt/conda/lib/python3.10/site-packages (from torch->flash-attn==2.4.2) (4.5.0)\r\n",
            "Requirement already satisfied: sympy in /opt/conda/lib/python3.10/site-packages (from torch->flash-attn==2.4.2) (1.12)\r\n",
            "Requirement already satisfied: networkx in /opt/conda/lib/python3.10/site-packages (from torch->flash-attn==2.4.2) (3.1)\r\n",
            "Requirement already satisfied: jinja2 in /opt/conda/lib/python3.10/site-packages (from torch->flash-attn==2.4.2) (3.1.2)\r\n",
            "Requirement already satisfied: MarkupSafe>=2.0 in /opt/conda/lib/python3.10/site-packages (from jinja2->torch->flash-attn==2.4.2) (2.1.3)\r\n",
            "Requirement already satisfied: mpmath>=0.19 in /opt/conda/lib/python3.10/site-packages (from sympy->torch->flash-attn==2.4.2) (1.3.0)\r\n",
            "Downloading einops-0.7.0-py3-none-any.whl (44 kB)\r\n",
            "\u001b[2K   \u001b[90m━━━━━━━━━━━━━━━━━━━━━━━━━━━━━━━━━━━━━━━━\u001b[0m \u001b[32m44.6/44.6 kB\u001b[0m \u001b[31m4.8 MB/s\u001b[0m eta \u001b[36m0:00:00\u001b[0m\r\n",
            "\u001b[?25hBuilding wheels for collected packages: flash-attn\r\n",
            "  Building wheel for flash-attn (setup.py) ... \u001b[?25l-\b \b\\\b \b|\b \bdone\r\n",
            "\u001b[?25h  Created wheel for flash-attn: filename=flash_attn-2.4.2-cp310-cp310-linux_x86_64.whl size=113935202 sha256=738d0ba133f067ea30a5aa8d85e35f83d4e65467b13693e2d04bf86312f78990\r\n",
            "  Stored in directory: /root/.cache/pip/wheels/9d/cf/7f/d14555553b5b30698dae0a4159fdd058157e7021cec565ecaa\r\n",
            "Successfully built flash-attn\r\n",
            "Installing collected packages: einops, flash-attn\r\n",
            "Successfully installed einops-0.7.0 flash-attn-2.4.2\r\n"
          ]
        }
      ],
      "source": [
        "!pip install transformers==4.36.2\n",
        "!pip install accelerate==0.25.0\n",
        "!pip install datasets==2.15.0\n",
        "!pip install peft==0.7.1\n",
        "!pip install bitsandbytes==0.41.3\n",
        "!pip install trl==0.7.7\n",
        "!pip install tqdm==4.66.1\n",
        "!pip install flash-attn==2.4.2"
      ]
    },
    {
      "cell_type": "markdown",
      "source": [
        "Importing Libraries"
      ],
      "metadata": {
        "id": "4KzZ5MlwBOhr"
      },
      "id": "4KzZ5MlwBOhr"
    },
    {
      "cell_type": "code",
      "execution_count": null,
      "id": "a92d3aca",
      "metadata": {
        "_cell_guid": "b1076dfc-b9ad-4769-8c92-a6c4dae69d19",
        "_uuid": "8f2839f25d086af736a60e9eeb907d3b93b6e0e5",
        "execution": {
          "iopub.execute_input": "2024-01-20T17:48:54.011034Z",
          "iopub.status.busy": "2024-01-20T17:48:54.010680Z",
          "iopub.status.idle": "2024-01-20T17:48:54.746871Z",
          "shell.execute_reply": "2024-01-20T17:48:54.745616Z"
        },
        "papermill": {
          "duration": 0.748496,
          "end_time": "2024-01-20T17:48:54.749237",
          "exception": false,
          "start_time": "2024-01-20T17:48:54.000741",
          "status": "completed"
        },
        "tags": [],
        "id": "a92d3aca"
      },
      "outputs": [],
      "source": [
        "import numpy as np\n",
        "import pandas as pd\n",
        "import os\n",
        "from huggingface_hub import login\n",
        "from kaggle_secrets import UserSecretsClient\n",
        "from datasets import load_dataset"
      ]
    },
    {
      "cell_type": "markdown",
      "source": [
        "Setting Up Secrets and Environment Variables\n",
        "\n",
        "> Hugging Face and Wandb Integration"
      ],
      "metadata": {
        "id": "xLuet3bNBTe5"
      },
      "id": "xLuet3bNBTe5"
    },
    {
      "cell_type": "code",
      "execution_count": null,
      "id": "1ac80137",
      "metadata": {
        "execution": {
          "iopub.execute_input": "2024-01-20T17:50:52.815493Z",
          "iopub.status.busy": "2024-01-20T17:50:52.815178Z",
          "iopub.status.idle": "2024-01-20T17:50:54.007991Z",
          "shell.execute_reply": "2024-01-20T17:50:54.007174Z"
        },
        "papermill": {
          "duration": 1.212947,
          "end_time": "2024-01-20T17:50:54.010033",
          "exception": false,
          "start_time": "2024-01-20T17:50:52.797086",
          "status": "completed"
        },
        "tags": [],
        "id": "1ac80137",
        "outputId": "14ae4392-04ac-46f2-847a-3d084c40c7ae"
      },
      "outputs": [
        {
          "name": "stdout",
          "output_type": "stream",
          "text": [
            "Token will not been saved to git credential helper. Pass `add_to_git_credential=True` if you want to set the git credential as well.\n",
            "Token is valid (permission: write).\n",
            "Your token has been saved to /root/.cache/huggingface/token\n",
            "Login successful\n"
          ]
        }
      ],
      "source": [
        "user_secrets = UserSecretsClient()\n",
        "\n",
        "login(token=user_secrets.get_secret(\"HUGGINGFACE_TOKEN\"))\n",
        "\n",
        "os.environ[\"WANDB_API_KEY\"]=user_secrets.get_secret(\"WANDB_API_KEY\")\n",
        "os.environ[\"WANDB_PROJECT\"] = \"Text generation using LORA\"\n",
        "os.environ[\"WANDB_NOTES\"] = \"Fine tuning text generation using LLM\"\n",
        "os.environ[\"WANDB_NAME\"] = \"Model-text-generation\"\n",
        "os.environ[\"MODEL_NAME\"] = \"bigscience/bloomz-560m\""
      ]
    },
    {
      "cell_type": "markdown",
      "source": [
        " Model Memory Estimation\n",
        "\n",
        " - Estimates the memory requirements for the specified model using the accelerate library.\n",
        "\n",
        " - int4 has the lowest memory consumption for the model"
      ],
      "metadata": {
        "id": "KXJ3bs6oBit3"
      },
      "id": "KXJ3bs6oBit3"
    },
    {
      "cell_type": "code",
      "execution_count": null,
      "id": "6774c3d9",
      "metadata": {
        "execution": {
          "iopub.execute_input": "2024-01-20T17:50:54.046382Z",
          "iopub.status.busy": "2024-01-20T17:50:54.046112Z",
          "iopub.status.idle": "2024-01-20T17:51:02.127257Z",
          "shell.execute_reply": "2024-01-20T17:51:02.126220Z"
        },
        "papermill": {
          "duration": 8.101705,
          "end_time": "2024-01-20T17:51:02.129763",
          "exception": false,
          "start_time": "2024-01-20T17:50:54.028058",
          "status": "completed"
        },
        "tags": [],
        "id": "6774c3d9",
        "outputId": "3dd60a8c-1a95-4904-f091-cb2b3eadf27c"
      },
      "outputs": [
        {
          "name": "stdout",
          "output_type": "stream",
          "text": [
            "Loading pretrained config for `bigscience/bloomz-560m` from `transformers`...\r\n",
            "config.json: 100%|█████████████████████████████| 715/715 [00:00<00:00, 4.92MB/s]\r\n",
            "┌────────────────────────────────────────────────────┐\r\n",
            "│ Memory Usage for loading `bigscience/bloomz-560m`  │\r\n",
            "├───────┬─────────────┬──────────┬───────────────────┤\r\n",
            "│ dtype │Largest Layer│Total Size│Training using Adam│\r\n",
            "├───────┼─────────────┼──────────┼───────────────────┤\r\n",
            "│float32│   980.0 MB  │ 2.08 GB  │      8.33 GB      │\r\n",
            "│float16│   490.0 MB  │ 1.04 GB  │      4.17 GB      │\r\n",
            "│  int8 │   245.0 MB  │533.31 MB │      2.08 GB      │\r\n",
            "│  int4 │   122.5 MB  │266.65 MB │      1.04 GB      │\r\n",
            "└───────┴─────────────┴──────────┴───────────────────┘\r\n"
          ]
        }
      ],
      "source": [
        "!accelerate estimate-memory ${MODEL_NAME} --library_name transformers"
      ]
    },
    {
      "cell_type": "markdown",
      "source": [
        "Loading and Preprocessing Dataset\n",
        "\n",
        "> Loads a dataset, removes unnecessary columns, shuffles, and splits it into training and evaluation sets."
      ],
      "metadata": {
        "id": "YELP8NbQCEGl"
      },
      "id": "YELP8NbQCEGl"
    },
    {
      "cell_type": "code",
      "execution_count": null,
      "id": "31aec963",
      "metadata": {
        "execution": {
          "iopub.execute_input": "2024-01-20T17:51:02.167076Z",
          "iopub.status.busy": "2024-01-20T17:51:02.166351Z",
          "iopub.status.idle": "2024-01-20T17:55:04.050874Z",
          "shell.execute_reply": "2024-01-20T17:55:04.049624Z"
        },
        "papermill": {
          "duration": 241.906814,
          "end_time": "2024-01-20T17:55:04.054275",
          "exception": false,
          "start_time": "2024-01-20T17:51:02.147461",
          "status": "completed"
        },
        "tags": [],
        "colab": {
          "referenced_widgets": [
            "6fcf25a6d6d04074882991935bf62dec",
            "9663596aef47456e99ca25b3e00e3a95",
            "239431d773a64f7898a004253ec5b3ae",
            "f7fb1aeca16349bcbc6153040c48547a",
            "10ee121b2eb442d78423a25b5dcffbb2",
            "984b051822e64eb286e4978d4e1cfe82",
            "caac4f7757d3476c813628d1f09929d1",
            "7436c3d3f5714ab78d64a5b276c8e780",
            "f54672498e3441b6a9fcc3ed2c872725",
            "f91e7d49db5f443a8436686b24df61c1"
          ]
        },
        "id": "31aec963",
        "outputId": "a0e80865-79ec-4299-a79b-5ddbf7baf3fe"
      },
      "outputs": [
        {
          "data": {
            "application/vnd.jupyter.widget-view+json": {
              "model_id": "6fcf25a6d6d04074882991935bf62dec",
              "version_major": 2,
              "version_minor": 0
            },
            "text/plain": [
              "Downloading readme:   0%|          | 0.00/6.81k [00:00<?, ?B/s]"
            ]
          },
          "metadata": {},
          "output_type": "display_data"
        },
        {
          "name": "stderr",
          "output_type": "stream",
          "text": [
            "/opt/conda/lib/python3.10/site-packages/scipy/__init__.py:146: UserWarning: A NumPy version >=1.16.5 and <1.23.0 is required for this version of SciPy (detected version 1.24.3\n",
            "  warnings.warn(f\"A NumPy version >={np_minversion} and <{np_maxversion}\"\n"
          ]
        },
        {
          "data": {
            "application/vnd.jupyter.widget-view+json": {
              "model_id": "9663596aef47456e99ca25b3e00e3a95",
              "version_major": 2,
              "version_minor": 0
            },
            "text/plain": [
              "Downloading data files:   0%|          | 0/2 [00:00<?, ?it/s]"
            ]
          },
          "metadata": {},
          "output_type": "display_data"
        },
        {
          "data": {
            "application/vnd.jupyter.widget-view+json": {
              "model_id": "239431d773a64f7898a004253ec5b3ae",
              "version_major": 2,
              "version_minor": 0
            },
            "text/plain": [
              "Downloading data:   0%|          | 0.00/260M [00:00<?, ?B/s]"
            ]
          },
          "metadata": {},
          "output_type": "display_data"
        },
        {
          "data": {
            "application/vnd.jupyter.widget-view+json": {
              "model_id": "f7fb1aeca16349bcbc6153040c48547a",
              "version_major": 2,
              "version_minor": 0
            },
            "text/plain": [
              "Downloading data:   0%|          | 0.00/258M [00:00<?, ?B/s]"
            ]
          },
          "metadata": {},
          "output_type": "display_data"
        },
        {
          "data": {
            "application/vnd.jupyter.widget-view+json": {
              "model_id": "10ee121b2eb442d78423a25b5dcffbb2",
              "version_major": 2,
              "version_minor": 0
            },
            "text/plain": [
              "Downloading data:   0%|          | 0.00/255M [00:00<?, ?B/s]"
            ]
          },
          "metadata": {},
          "output_type": "display_data"
        },
        {
          "data": {
            "application/vnd.jupyter.widget-view+json": {
              "model_id": "984b051822e64eb286e4978d4e1cfe82",
              "version_major": 2,
              "version_minor": 0
            },
            "text/plain": [
              "Downloading data:   0%|          | 0.00/254M [00:00<?, ?B/s]"
            ]
          },
          "metadata": {},
          "output_type": "display_data"
        },
        {
          "data": {
            "application/vnd.jupyter.widget-view+json": {
              "model_id": "caac4f7757d3476c813628d1f09929d1",
              "version_major": 2,
              "version_minor": 0
            },
            "text/plain": [
              "Downloading data:   0%|          | 0.00/117M [00:00<?, ?B/s]"
            ]
          },
          "metadata": {},
          "output_type": "display_data"
        },
        {
          "data": {
            "application/vnd.jupyter.widget-view+json": {
              "model_id": "7436c3d3f5714ab78d64a5b276c8e780",
              "version_major": 2,
              "version_minor": 0
            },
            "text/plain": [
              "Extracting data files:   0%|          | 0/2 [00:00<?, ?it/s]"
            ]
          },
          "metadata": {},
          "output_type": "display_data"
        },
        {
          "data": {
            "application/vnd.jupyter.widget-view+json": {
              "model_id": "f54672498e3441b6a9fcc3ed2c872725",
              "version_major": 2,
              "version_minor": 0
            },
            "text/plain": [
              "Generating train split:   0%|          | 0/3600000 [00:00<?, ? examples/s]"
            ]
          },
          "metadata": {},
          "output_type": "display_data"
        },
        {
          "data": {
            "application/vnd.jupyter.widget-view+json": {
              "model_id": "f91e7d49db5f443a8436686b24df61c1",
              "version_major": 2,
              "version_minor": 0
            },
            "text/plain": [
              "Generating test split:   0%|          | 0/400000 [00:00<?, ? examples/s]"
            ]
          },
          "metadata": {},
          "output_type": "display_data"
        }
      ],
      "source": [
        "dataset = load_dataset(\"amazon_polarity\",split='train')"
      ]
    },
    {
      "cell_type": "code",
      "execution_count": null,
      "id": "75297d65",
      "metadata": {
        "execution": {
          "iopub.execute_input": "2024-01-20T17:55:04.099414Z",
          "iopub.status.busy": "2024-01-20T17:55:04.098875Z",
          "iopub.status.idle": "2024-01-20T17:55:04.105838Z",
          "shell.execute_reply": "2024-01-20T17:55:04.104709Z"
        },
        "papermill": {
          "duration": 0.029931,
          "end_time": "2024-01-20T17:55:04.107785",
          "exception": false,
          "start_time": "2024-01-20T17:55:04.077854",
          "status": "completed"
        },
        "tags": [],
        "id": "75297d65",
        "outputId": "73a7ab61-8923-47c6-a63e-bdac1654956c"
      },
      "outputs": [
        {
          "data": {
            "text/plain": [
              "Dataset({\n",
              "    features: ['label', 'title', 'content'],\n",
              "    num_rows: 3600000\n",
              "})"
            ]
          },
          "execution_count": 6,
          "metadata": {},
          "output_type": "execute_result"
        }
      ],
      "source": [
        "dataset"
      ]
    },
    {
      "cell_type": "code",
      "execution_count": null,
      "id": "3de65a9e",
      "metadata": {
        "execution": {
          "iopub.execute_input": "2024-01-20T17:55:04.197626Z",
          "iopub.status.busy": "2024-01-20T17:55:04.197263Z",
          "iopub.status.idle": "2024-01-20T17:55:04.225101Z",
          "shell.execute_reply": "2024-01-20T17:55:04.224089Z"
        },
        "papermill": {
          "duration": 0.051717,
          "end_time": "2024-01-20T17:55:04.227220",
          "exception": false,
          "start_time": "2024-01-20T17:55:04.175503",
          "status": "completed"
        },
        "tags": [],
        "id": "3de65a9e"
      },
      "outputs": [],
      "source": [
        "dataset = dataset.remove_columns(['label', 'title'])"
      ]
    },
    {
      "cell_type": "code",
      "execution_count": null,
      "id": "ede81570",
      "metadata": {
        "execution": {
          "iopub.execute_input": "2024-01-20T17:55:04.270022Z",
          "iopub.status.busy": "2024-01-20T17:55:04.269462Z",
          "iopub.status.idle": "2024-01-20T17:55:04.275526Z",
          "shell.execute_reply": "2024-01-20T17:55:04.274619Z"
        },
        "papermill": {
          "duration": 0.029519,
          "end_time": "2024-01-20T17:55:04.277555",
          "exception": false,
          "start_time": "2024-01-20T17:55:04.248036",
          "status": "completed"
        },
        "tags": [],
        "id": "ede81570",
        "outputId": "dd9dc653-fd13-4059-e59c-a61d561841ba"
      },
      "outputs": [
        {
          "data": {
            "text/plain": [
              "Dataset({\n",
              "    features: ['content'],\n",
              "    num_rows: 3600000\n",
              "})"
            ]
          },
          "execution_count": 8,
          "metadata": {},
          "output_type": "execute_result"
        }
      ],
      "source": [
        "dataset"
      ]
    },
    {
      "cell_type": "markdown",
      "source": [
        "Selecting Few Rows to save time on training the model"
      ],
      "metadata": {
        "id": "Jf0cS92ACKJf"
      },
      "id": "Jf0cS92ACKJf"
    },
    {
      "cell_type": "code",
      "execution_count": null,
      "id": "18b6a3bd",
      "metadata": {
        "execution": {
          "iopub.execute_input": "2024-01-20T17:55:04.319264Z",
          "iopub.status.busy": "2024-01-20T17:55:04.318955Z",
          "iopub.status.idle": "2024-01-20T17:55:06.192649Z",
          "shell.execute_reply": "2024-01-20T17:55:06.191879Z"
        },
        "papermill": {
          "duration": 1.897132,
          "end_time": "2024-01-20T17:55:06.194964",
          "exception": false,
          "start_time": "2024-01-20T17:55:04.297832",
          "status": "completed"
        },
        "tags": [],
        "id": "18b6a3bd"
      },
      "outputs": [],
      "source": [
        "dataset = dataset.shuffle(seed=42).select([i for i in range(70000)])"
      ]
    },
    {
      "cell_type": "code",
      "execution_count": null,
      "id": "0ffefae9",
      "metadata": {
        "execution": {
          "iopub.execute_input": "2024-01-20T17:55:06.235107Z",
          "iopub.status.busy": "2024-01-20T17:55:06.234773Z",
          "iopub.status.idle": "2024-01-20T17:55:06.317829Z",
          "shell.execute_reply": "2024-01-20T17:55:06.316940Z"
        },
        "papermill": {
          "duration": 0.105501,
          "end_time": "2024-01-20T17:55:06.320209",
          "exception": false,
          "start_time": "2024-01-20T17:55:06.214708",
          "status": "completed"
        },
        "tags": [],
        "id": "0ffefae9"
      },
      "outputs": [],
      "source": [
        "dataset = dataset.train_test_split(test_size=0.1,seed=42)"
      ]
    },
    {
      "cell_type": "code",
      "execution_count": null,
      "id": "bde16e9a",
      "metadata": {
        "execution": {
          "iopub.execute_input": "2024-01-20T17:55:06.360461Z",
          "iopub.status.busy": "2024-01-20T17:55:06.359623Z",
          "iopub.status.idle": "2024-01-20T17:55:06.365642Z",
          "shell.execute_reply": "2024-01-20T17:55:06.364774Z"
        },
        "papermill": {
          "duration": 0.028232,
          "end_time": "2024-01-20T17:55:06.367766",
          "exception": false,
          "start_time": "2024-01-20T17:55:06.339534",
          "status": "completed"
        },
        "tags": [],
        "id": "bde16e9a",
        "outputId": "f495e6f7-1ef8-4257-8458-4679a2834ec4"
      },
      "outputs": [
        {
          "data": {
            "text/plain": [
              "DatasetDict({\n",
              "    train: Dataset({\n",
              "        features: ['content'],\n",
              "        num_rows: 63000\n",
              "    })\n",
              "    test: Dataset({\n",
              "        features: ['content'],\n",
              "        num_rows: 7000\n",
              "    })\n",
              "})"
            ]
          },
          "execution_count": 11,
          "metadata": {},
          "output_type": "execute_result"
        }
      ],
      "source": [
        "dataset"
      ]
    },
    {
      "cell_type": "code",
      "execution_count": null,
      "id": "e27096dd",
      "metadata": {
        "execution": {
          "iopub.execute_input": "2024-01-20T17:55:06.408308Z",
          "iopub.status.busy": "2024-01-20T17:55:06.407997Z",
          "iopub.status.idle": "2024-01-20T17:55:06.411959Z",
          "shell.execute_reply": "2024-01-20T17:55:06.411220Z"
        },
        "papermill": {
          "duration": 0.02622,
          "end_time": "2024-01-20T17:55:06.413793",
          "exception": false,
          "start_time": "2024-01-20T17:55:06.387573",
          "status": "completed"
        },
        "tags": [],
        "id": "e27096dd"
      },
      "outputs": [],
      "source": [
        "train_dataset = dataset['train']\n",
        "eval_dataset = dataset['test']"
      ]
    },
    {
      "cell_type": "code",
      "execution_count": null,
      "id": "4773fcc5",
      "metadata": {
        "execution": {
          "iopub.execute_input": "2024-01-20T17:55:06.455877Z",
          "iopub.status.busy": "2024-01-20T17:55:06.455588Z",
          "iopub.status.idle": "2024-01-20T17:55:06.461299Z",
          "shell.execute_reply": "2024-01-20T17:55:06.460479Z"
        },
        "papermill": {
          "duration": 0.029492,
          "end_time": "2024-01-20T17:55:06.463195",
          "exception": false,
          "start_time": "2024-01-20T17:55:06.433703",
          "status": "completed"
        },
        "tags": [],
        "id": "4773fcc5",
        "outputId": "8241f513-c292-4483-fce2-0423049628ae"
      },
      "outputs": [
        {
          "data": {
            "text/plain": [
              "{'content': \"I could never seem to get into this book; why? It is a tale of 'Bilbo Baggins' and his journey with Gandalf and the dwarves to find treasure, and defeat the 'evil dragon', Smaug. It seems pointless; adventure after adventure, many characters, and no main theme. It was a childish and boring book (as well a series).\"}"
            ]
          },
          "execution_count": 13,
          "metadata": {},
          "output_type": "execute_result"
        }
      ],
      "source": [
        "train_dataset[1]"
      ]
    },
    {
      "cell_type": "code",
      "execution_count": null,
      "id": "3431691d",
      "metadata": {
        "execution": {
          "iopub.execute_input": "2024-01-20T17:55:06.503266Z",
          "iopub.status.busy": "2024-01-20T17:55:06.502523Z",
          "iopub.status.idle": "2024-01-20T17:55:06.508519Z",
          "shell.execute_reply": "2024-01-20T17:55:06.507639Z"
        },
        "papermill": {
          "duration": 0.028121,
          "end_time": "2024-01-20T17:55:06.510450",
          "exception": false,
          "start_time": "2024-01-20T17:55:06.482329",
          "status": "completed"
        },
        "tags": [],
        "id": "3431691d",
        "outputId": "dafc253a-9b63-4ef4-adc5-a08645bf3ffa"
      },
      "outputs": [
        {
          "data": {
            "text/plain": [
              "{'content': 'I REALL LIKE THIS SONG....VERY CATCHY IN WORDS AS WELL AS MUSIC.MY FAVORITE VERSIONS ARE:THE FULL INTENTION MIXES!GRAB A COPY...WELL WORTH IT!'}"
            ]
          },
          "execution_count": 14,
          "metadata": {},
          "output_type": "execute_result"
        }
      ],
      "source": [
        "eval_dataset[1]"
      ]
    },
    {
      "cell_type": "markdown",
      "source": [
        "Tokenizer Initialization"
      ],
      "metadata": {
        "id": "o7mbaZvJCZkE"
      },
      "id": "o7mbaZvJCZkE"
    },
    {
      "cell_type": "code",
      "execution_count": null,
      "id": "e31276bb",
      "metadata": {
        "execution": {
          "iopub.execute_input": "2024-01-20T17:55:06.550964Z",
          "iopub.status.busy": "2024-01-20T17:55:06.550643Z",
          "iopub.status.idle": "2024-01-20T17:55:10.625854Z",
          "shell.execute_reply": "2024-01-20T17:55:10.624821Z"
        },
        "papermill": {
          "duration": 4.098166,
          "end_time": "2024-01-20T17:55:10.628119",
          "exception": false,
          "start_time": "2024-01-20T17:55:06.529953",
          "status": "completed"
        },
        "tags": [],
        "colab": {
          "referenced_widgets": [
            "7d6cc0fa1caf46e280751980fc9b44f4",
            "c783896cf49e4aeaa8e45c07514921d4",
            "03e7ceb7948f448c857c64ba081b36b0"
          ]
        },
        "id": "e31276bb",
        "outputId": "baad3dc4-c38d-4f01-b103-901b431f56ad"
      },
      "outputs": [
        {
          "data": {
            "application/vnd.jupyter.widget-view+json": {
              "model_id": "7d6cc0fa1caf46e280751980fc9b44f4",
              "version_major": 2,
              "version_minor": 0
            },
            "text/plain": [
              "tokenizer_config.json:   0%|          | 0.00/222 [00:00<?, ?B/s]"
            ]
          },
          "metadata": {},
          "output_type": "display_data"
        },
        {
          "data": {
            "application/vnd.jupyter.widget-view+json": {
              "model_id": "c783896cf49e4aeaa8e45c07514921d4",
              "version_major": 2,
              "version_minor": 0
            },
            "text/plain": [
              "tokenizer.json:   0%|          | 0.00/14.5M [00:00<?, ?B/s]"
            ]
          },
          "metadata": {},
          "output_type": "display_data"
        },
        {
          "data": {
            "application/vnd.jupyter.widget-view+json": {
              "model_id": "03e7ceb7948f448c857c64ba081b36b0",
              "version_major": 2,
              "version_minor": 0
            },
            "text/plain": [
              "special_tokens_map.json:   0%|          | 0.00/85.0 [00:00<?, ?B/s]"
            ]
          },
          "metadata": {},
          "output_type": "display_data"
        },
        {
          "data": {
            "text/plain": [
              "1"
            ]
          },
          "execution_count": 15,
          "metadata": {},
          "output_type": "execute_result"
        }
      ],
      "source": [
        "from transformers import AutoTokenizer\n",
        "\n",
        "tokenizer=AutoTokenizer.from_pretrained(os.getenv(\"MODEL_NAME\"), use_fast=True,padding_size='right')\n",
        "tokenizer.add_special_tokens({'pad_token': '[PAD]'})"
      ]
    },
    {
      "cell_type": "markdown",
      "source": [
        "Quantization Configuration\n",
        "\n",
        "- Training the model takes more time and costs huge memory\n",
        "- We can save the model weights and parameters at less bitwidth instead of floating point\n",
        "- This method will save memory and makes the training fast"
      ],
      "metadata": {
        "id": "mKUu57UECdGV"
      },
      "id": "mKUu57UECdGV"
    },
    {
      "cell_type": "code",
      "execution_count": null,
      "id": "cc8e96c9",
      "metadata": {
        "execution": {
          "iopub.execute_input": "2024-01-20T17:55:10.674370Z",
          "iopub.status.busy": "2024-01-20T17:55:10.673794Z",
          "iopub.status.idle": "2024-01-20T17:55:10.790224Z",
          "shell.execute_reply": "2024-01-20T17:55:10.789439Z"
        },
        "papermill": {
          "duration": 0.142047,
          "end_time": "2024-01-20T17:55:10.792557",
          "exception": false,
          "start_time": "2024-01-20T17:55:10.650510",
          "status": "completed"
        },
        "tags": [],
        "id": "cc8e96c9"
      },
      "outputs": [],
      "source": [
        "from transformers import BitsAndBytesConfig\n",
        "from accelerate import Accelerator\n",
        "import torch\n",
        "\n",
        "load_in_4bit = True\n",
        "\n",
        "if load_in_4bit:\n",
        "    quantization_config = BitsAndBytesConfig(\n",
        "        load_in_4bit=load_in_4bit,\n",
        "        bnb_4bit_quant_type=\"nf4\",\n",
        "        bnb_4bit_use_double_quant=True,\n",
        "        bnb_4bit_compute_dtype=torch.float16\n",
        "    )\n",
        "    # copy the model to each device\n",
        "    device_map = \"auto\"\n",
        "    torch_dtype = torch.float16\n",
        "else:\n",
        "    device_map = None\n",
        "    quantization_config = None\n",
        "    torch_dtype = None\n"
      ]
    },
    {
      "cell_type": "markdown",
      "source": [
        "Model Initialization\n",
        "\n",
        "- Since our task is Text generation, we will select **AutoModelForCausalLM** (Casual Language modelling)\n",
        "\n",
        "- LoRA decreases memory needs by lowering the number of parameters to update, aiding in the management of large-scale models."
      ],
      "metadata": {
        "id": "_oc9YV4ADVMs"
      },
      "id": "_oc9YV4ADVMs"
    },
    {
      "cell_type": "code",
      "execution_count": null,
      "id": "9db0c2dc",
      "metadata": {
        "execution": {
          "iopub.execute_input": "2024-01-20T17:55:10.836290Z",
          "iopub.status.busy": "2024-01-20T17:55:10.835878Z",
          "iopub.status.idle": "2024-01-20T17:55:16.141506Z",
          "shell.execute_reply": "2024-01-20T17:55:16.140584Z"
        },
        "papermill": {
          "duration": 5.329731,
          "end_time": "2024-01-20T17:55:16.143653",
          "exception": false,
          "start_time": "2024-01-20T17:55:10.813922",
          "status": "completed"
        },
        "tags": [],
        "colab": {
          "referenced_widgets": [
            "aea7288a537f4f73ab26c01e85f0747a"
          ]
        },
        "id": "9db0c2dc",
        "outputId": "0be5c1a1-898d-4538-cabe-8d03ef76e19f"
      },
      "outputs": [
        {
          "data": {
            "application/vnd.jupyter.widget-view+json": {
              "model_id": "aea7288a537f4f73ab26c01e85f0747a",
              "version_major": 2,
              "version_minor": 0
            },
            "text/plain": [
              "model.safetensors:   0%|          | 0.00/1.12G [00:00<?, ?B/s]"
            ]
          },
          "metadata": {},
          "output_type": "display_data"
        },
        {
          "name": "stdout",
          "output_type": "stream",
          "text": [
            "trainable params: 257003520 || all params: 408219648 || trainable%: 62.96\n"
          ]
        }
      ],
      "source": [
        "from transformers import AutoModelForCausalLM\n",
        "\n",
        "def print_trainable_parameters(model):\n",
        "    trainable_params=0\n",
        "    all_params=0\n",
        "    for _, param in model.named_parameters():\n",
        "        all_params+=param.numel()\n",
        "        if param.requires_grad:\n",
        "            trainable_params+=param.numel()\n",
        "    print(f\"trainable params: {trainable_params} || all params: {all_params} || trainable%: {100 * trainable_params/all_params:.2f}\")\n",
        "\n",
        "model=AutoModelForCausalLM.from_pretrained(\n",
        "    os.getenv(\"MODEL_NAME\"),\n",
        "    quantization_config=quantization_config,\n",
        "    device_map=device_map,\n",
        "    trust_remote_code=False,\n",
        "    torch_dtype=torch_dtype,\n",
        "    # RuntimeError: FlashAttention only supports Ampere GPUs or newer.\n",
        "#     attn_implementation=\"flash_attention_2\"\n",
        ")\n",
        "\n",
        "print_trainable_parameters(model)"
      ]
    },
    {
      "cell_type": "code",
      "execution_count": null,
      "id": "d7b1ea89",
      "metadata": {
        "execution": {
          "iopub.execute_input": "2024-01-20T17:55:16.189771Z",
          "iopub.status.busy": "2024-01-20T17:55:16.189420Z",
          "iopub.status.idle": "2024-01-20T17:55:16.197538Z",
          "shell.execute_reply": "2024-01-20T17:55:16.196632Z"
        },
        "papermill": {
          "duration": 0.034098,
          "end_time": "2024-01-20T17:55:16.199496",
          "exception": false,
          "start_time": "2024-01-20T17:55:16.165398",
          "status": "completed"
        },
        "tags": [],
        "id": "d7b1ea89",
        "outputId": "498faec2-12da-479f-990c-b7d1aeda010e"
      },
      "outputs": [
        {
          "data": {
            "text/plain": [
              "665444352"
            ]
          },
          "execution_count": 18,
          "metadata": {},
          "output_type": "execute_result"
        }
      ],
      "source": [
        "model.get_memory_footprint()"
      ]
    },
    {
      "cell_type": "code",
      "execution_count": null,
      "id": "175e12c5",
      "metadata": {
        "execution": {
          "iopub.execute_input": "2024-01-20T17:55:16.242999Z",
          "iopub.status.busy": "2024-01-20T17:55:16.242633Z",
          "iopub.status.idle": "2024-01-20T17:55:16.388339Z",
          "shell.execute_reply": "2024-01-20T17:55:16.387397Z"
        },
        "papermill": {
          "duration": 0.169867,
          "end_time": "2024-01-20T17:55:16.390545",
          "exception": false,
          "start_time": "2024-01-20T17:55:16.220678",
          "status": "completed"
        },
        "tags": [],
        "id": "175e12c5",
        "outputId": "e2b66ce5-20d7-473e-e643-7a3d6aa1f79a"
      },
      "outputs": [
        {
          "name": "stdout",
          "output_type": "stream",
          "text": [
            "trainable params: 6,291,456 || all params: 565,506,048 || trainable%: 1.112535581582321\n"
          ]
        }
      ],
      "source": [
        "from peft import LoraConfig, get_peft_model\n",
        "\n",
        "use_peft=True\n",
        "\n",
        "peft_config=LoraConfig(\n",
        "    r=64,\n",
        "    lora_alpha=16,\n",
        "    bias=\"none\",\n",
        "    task_type=\"CAUSAL_LM\",\n",
        "    target_modules=[\"query_key_value\"]\n",
        ")\n",
        "\n",
        "peft_model=get_peft_model(model,peft_config)\n",
        "peft_model.print_trainable_parameters()"
      ]
    },
    {
      "cell_type": "code",
      "execution_count": null,
      "id": "3d2540fc",
      "metadata": {
        "execution": {
          "iopub.execute_input": "2024-01-20T17:55:16.434504Z",
          "iopub.status.busy": "2024-01-20T17:55:16.434167Z",
          "iopub.status.idle": "2024-01-20T17:55:16.444670Z",
          "shell.execute_reply": "2024-01-20T17:55:16.443681Z"
        },
        "papermill": {
          "duration": 0.034206,
          "end_time": "2024-01-20T17:55:16.446687",
          "exception": false,
          "start_time": "2024-01-20T17:55:16.412481",
          "status": "completed"
        },
        "tags": [],
        "id": "3d2540fc",
        "outputId": "7ff222a1-a798-4f5c-a352-2e3cde0a23be"
      },
      "outputs": [
        {
          "data": {
            "text/plain": [
              "690610176"
            ]
          },
          "execution_count": 20,
          "metadata": {},
          "output_type": "execute_result"
        }
      ],
      "source": [
        "peft_model.get_memory_footprint()"
      ]
    },
    {
      "cell_type": "markdown",
      "source": [
        " Model Training Configuration and SFTTrainer Initialization\n",
        " >  Configures training parameters, output directory, and other settings."
      ],
      "metadata": {
        "id": "xnRfrGZ7E3NQ"
      },
      "id": "xnRfrGZ7E3NQ"
    },
    {
      "cell_type": "code",
      "execution_count": null,
      "id": "b890786e",
      "metadata": {
        "execution": {
          "iopub.execute_input": "2024-01-20T17:55:16.490808Z",
          "iopub.status.busy": "2024-01-20T17:55:16.490491Z",
          "iopub.status.idle": "2024-01-21T00:06:48.529666Z",
          "shell.execute_reply": "2024-01-21T00:06:48.528567Z"
        },
        "papermill": {
          "duration": 22292.063552,
          "end_time": "2024-01-21T00:06:48.531850",
          "exception": false,
          "start_time": "2024-01-20T17:55:16.468298",
          "status": "completed"
        },
        "tags": [],
        "colab": {
          "referenced_widgets": [
            "6677e96397e248628ee7633c5ebb6c66",
            "8cf7062e8f9c485dacb239a2753cb5d2"
          ]
        },
        "id": "b890786e",
        "outputId": "c7efa6fa-2283-42c4-b47d-f48daf4e668e"
      },
      "outputs": [
        {
          "data": {
            "application/vnd.jupyter.widget-view+json": {
              "model_id": "6677e96397e248628ee7633c5ebb6c66",
              "version_major": 2,
              "version_minor": 0
            },
            "text/plain": [
              "Map:   0%|          | 0/63000 [00:00<?, ? examples/s]"
            ]
          },
          "metadata": {},
          "output_type": "display_data"
        },
        {
          "data": {
            "application/vnd.jupyter.widget-view+json": {
              "model_id": "8cf7062e8f9c485dacb239a2753cb5d2",
              "version_major": 2,
              "version_minor": 0
            },
            "text/plain": [
              "Map:   0%|          | 0/7000 [00:00<?, ? examples/s]"
            ]
          },
          "metadata": {},
          "output_type": "display_data"
        },
        {
          "name": "stderr",
          "output_type": "stream",
          "text": [
            "/opt/conda/lib/python3.10/site-packages/trl/trainer/sft_trainer.py:282: UserWarning: You passed a tokenizer with `padding_side` not equal to `right` to the SFTTrainer. This might lead to some unexpected behaviour due to overflow issues when training a model in half-precision. You might consider adding `tokenizer.padding_side = 'right'` to your code.\n",
            "  warnings.warn(\n",
            "\u001b[34m\u001b[1mwandb\u001b[0m: Currently logged in as: \u001b[33maravindsriraj\u001b[0m (\u001b[33maravindan\u001b[0m). Use \u001b[1m`wandb login --relogin`\u001b[0m to force relogin\n",
            "\u001b[34m\u001b[1mwandb\u001b[0m: Tracking run with wandb version 0.16.2\n",
            "\u001b[34m\u001b[1mwandb\u001b[0m: Run data is saved locally in \u001b[35m\u001b[1m/kaggle/working/wandb/run-20240120_175543-shw325rv\u001b[0m\n",
            "\u001b[34m\u001b[1mwandb\u001b[0m: Run \u001b[1m`wandb offline`\u001b[0m to turn off syncing.\n",
            "\u001b[34m\u001b[1mwandb\u001b[0m: Syncing run \u001b[33mModel-text-generation\u001b[0m\n",
            "\u001b[34m\u001b[1mwandb\u001b[0m: ⭐️ View project at \u001b[34m\u001b[4mhttps://wandb.ai/aravindan/Text%20generation%20using%20LORA\u001b[0m\n",
            "\u001b[34m\u001b[1mwandb\u001b[0m: 🚀 View run at \u001b[34m\u001b[4mhttps://wandb.ai/aravindan/Text%20generation%20using%20LORA/runs/shw325rv\u001b[0m\n",
            "You're using a BloomTokenizerFast tokenizer. Please note that with a fast tokenizer, using the `__call__` method is faster than using a method to encode the text followed by a call to the `pad` method to get a padded encoding.\n"
          ]
        },
        {
          "data": {
            "text/html": [
              "\n",
              "    <div>\n",
              "      \n",
              "      <progress value='4920' max='4920' style='width:300px; height:20px; vertical-align: middle;'></progress>\n",
              "      [4920/4920 6:10:29, Epoch 4/5]\n",
              "    </div>\n",
              "    <table border=\"1\" class=\"dataframe\">\n",
              "  <thead>\n",
              " <tr style=\"text-align: left;\">\n",
              "      <th>Epoch</th>\n",
              "      <th>Training Loss</th>\n",
              "      <th>Validation Loss</th>\n",
              "    </tr>\n",
              "  </thead>\n",
              "  <tbody>\n",
              "    <tr>\n",
              "      <td>0</td>\n",
              "      <td>3.653200</td>\n",
              "      <td>3.665671</td>\n",
              "    </tr>\n",
              "    <tr>\n",
              "      <td>1</td>\n",
              "      <td>3.652700</td>\n",
              "      <td>3.651834</td>\n",
              "    </tr>\n",
              "    <tr>\n",
              "      <td>2</td>\n",
              "      <td>3.630100</td>\n",
              "      <td>3.646200</td>\n",
              "    </tr>\n",
              "    <tr>\n",
              "      <td>3</td>\n",
              "      <td>3.627900</td>\n",
              "      <td>3.644216</td>\n",
              "    </tr>\n",
              "    <tr>\n",
              "      <td>4</td>\n",
              "      <td>3.638500</td>\n",
              "      <td>3.644014</td>\n",
              "    </tr>\n",
              "  </tbody>\n",
              "</table><p>"
            ],
            "text/plain": [
              "<IPython.core.display.HTML object>"
            ]
          },
          "metadata": {},
          "output_type": "display_data"
        },
        {
          "data": {
            "text/plain": [
              "TrainOutput(global_step=4920, training_loss=3.6541302332064, metrics={'train_runtime': 22266.8144, 'train_samples_per_second': 14.147, 'train_steps_per_second': 0.221, 'total_flos': 1.0327383925122662e+17, 'train_loss': 3.6541302332064, 'epoch': 5.0})"
            ]
          },
          "execution_count": 21,
          "metadata": {},
          "output_type": "execute_result"
        }
      ],
      "source": [
        "from transformers import TrainingArguments, Trainer\n",
        "from trl import SFTTrainer\n",
        "\n",
        "training_args=TrainingArguments(\n",
        "    output_dir=os.getenv(\"WANDB_NAME\"),\n",
        "    per_device_train_batch_size=8,\n",
        "    gradient_accumulation_steps=8,\n",
        "    learning_rate=1.41e-5,\n",
        "    num_train_epochs=5,\n",
        "    max_steps=-1,\n",
        "    report_to=\"wandb\",\n",
        "    run_name=os.getenv(\"WANDB_NAME\"),\n",
        "    save_steps=100,\n",
        "    logging_steps=50,\n",
        "    save_total_limit=1,\n",
        "    push_to_hub=False,\n",
        "    gradient_checkpointing=False,\n",
        "    evaluation_strategy=\"epoch\",\n",
        "    lr_scheduler_type = \"cosine\",\n",
        "    fp16=True\n",
        ")\n",
        "\n",
        "sft_trainer=SFTTrainer(\n",
        "    model=peft_model,\n",
        "    args=training_args,\n",
        "    max_seq_length=256,\n",
        "    train_dataset=train_dataset,\n",
        "    eval_dataset = eval_dataset,\n",
        "    dataset_text_field=\"content\",\n",
        "    tokenizer=tokenizer\n",
        ")\n",
        "\n",
        "sft_trainer.train()"
      ]
    },
    {
      "cell_type": "markdown",
      "source": [
        "Model Evaluation"
      ],
      "metadata": {
        "id": "Ir3ZHUJSGN64"
      },
      "id": "Ir3ZHUJSGN64"
    },
    {
      "cell_type": "code",
      "execution_count": null,
      "id": "3c4682b9",
      "metadata": {
        "execution": {
          "iopub.execute_input": "2024-01-21T00:06:48.581395Z",
          "iopub.status.busy": "2024-01-21T00:06:48.580195Z",
          "iopub.status.idle": "2024-01-21T00:10:07.094177Z",
          "shell.execute_reply": "2024-01-21T00:10:07.093113Z"
        },
        "papermill": {
          "duration": 198.540862,
          "end_time": "2024-01-21T00:10:07.096578",
          "exception": false,
          "start_time": "2024-01-21T00:06:48.555716",
          "status": "completed"
        },
        "tags": [],
        "id": "3c4682b9",
        "outputId": "287ac663-e120-4825-ea6e-e488fe4a40a5"
      },
      "outputs": [
        {
          "data": {
            "text/html": [
              "\n",
              "    <div>\n",
              "      \n",
              "      <progress value='875' max='875' style='width:300px; height:20px; vertical-align: middle;'></progress>\n",
              "      [875/875 03:18]\n",
              "    </div>\n",
              "    "
            ],
            "text/plain": [
              "<IPython.core.display.HTML object>"
            ]
          },
          "metadata": {},
          "output_type": "display_data"
        },
        {
          "name": "stdout",
          "output_type": "stream",
          "text": [
            "{'eval_loss': 3.6440136432647705, 'eval_runtime': 198.5037, 'eval_samples_per_second': 35.264, 'eval_steps_per_second': 4.408, 'epoch': 5.0}\n"
          ]
        }
      ],
      "source": [
        "results = sft_trainer.evaluate()\n",
        "print(results)"
      ]
    },
    {
      "cell_type": "markdown",
      "source": [
        "Perplexity Calculation\n",
        "> Calculates and prints the perplexity value from the evaluation loss"
      ],
      "metadata": {
        "id": "IOy-gH1lGRsD"
      },
      "id": "IOy-gH1lGRsD"
    },
    {
      "cell_type": "code",
      "source": [
        "import numpy as np\n",
        "def perplexity(eval_output):\n",
        "    return np.exp(eval_output)"
      ],
      "metadata": {
        "id": "H175jOpz07Rl"
      },
      "execution_count": null,
      "outputs": [],
      "id": "H175jOpz07Rl"
    },
    {
      "cell_type": "code",
      "source": [
        "perplexity(results['eval_loss'])"
      ],
      "metadata": {
        "colab": {
          "base_uri": "https://localhost:8080/"
        },
        "id": "ZVxUG7VA3MJd",
        "outputId": "2521106a-ce4b-405e-8529-d5911e63013b"
      },
      "execution_count": null,
      "outputs": [
        {
          "output_type": "execute_result",
          "data": {
            "text/plain": [
              "38.24503099723861"
            ]
          },
          "metadata": {},
          "execution_count": 47
        }
      ],
      "id": "ZVxUG7VA3MJd"
    },
    {
      "cell_type": "code",
      "execution_count": null,
      "id": "8e5c365f",
      "metadata": {
        "execution": {
          "iopub.execute_input": "2024-01-21T00:10:07.146085Z",
          "iopub.status.busy": "2024-01-21T00:10:07.145715Z",
          "iopub.status.idle": "2024-01-21T00:10:11.790331Z",
          "shell.execute_reply": "2024-01-21T00:10:11.789378Z"
        },
        "papermill": {
          "duration": 4.671708,
          "end_time": "2024-01-21T00:10:11.792436",
          "exception": false,
          "start_time": "2024-01-21T00:10:07.120728",
          "status": "completed"
        },
        "tags": [],
        "colab": {
          "referenced_widgets": [
            "d9b3c7b804bc4c8aa1c49d1fe2eb7883",
            "de94f8b12a1649b183179ea0692ef686",
            "bf9f2ee82c814ddf966d7232220e2ec0"
          ]
        },
        "id": "8e5c365f",
        "outputId": "2764337f-b2b1-48c2-ee37-75d4f60f916f"
      },
      "outputs": [
        {
          "data": {
            "application/vnd.jupyter.widget-view+json": {
              "model_id": "d9b3c7b804bc4c8aa1c49d1fe2eb7883",
              "version_major": 2,
              "version_minor": 0
            },
            "text/plain": [
              "Upload 2 LFS files:   0%|          | 0/2 [00:00<?, ?it/s]"
            ]
          },
          "metadata": {},
          "output_type": "display_data"
        },
        {
          "data": {
            "application/vnd.jupyter.widget-view+json": {
              "model_id": "de94f8b12a1649b183179ea0692ef686",
              "version_major": 2,
              "version_minor": 0
            },
            "text/plain": [
              "adapter_model.safetensors:   0%|          | 0.00/25.2M [00:00<?, ?B/s]"
            ]
          },
          "metadata": {},
          "output_type": "display_data"
        },
        {
          "data": {
            "application/vnd.jupyter.widget-view+json": {
              "model_id": "bf9f2ee82c814ddf966d7232220e2ec0",
              "version_major": 2,
              "version_minor": 0
            },
            "text/plain": [
              "training_args.bin:   0%|          | 0.00/4.28k [00:00<?, ?B/s]"
            ]
          },
          "metadata": {},
          "output_type": "display_data"
        },
        {
          "data": {
            "text/plain": [
              "CommitInfo(commit_url='https://huggingface.co/tr-aravindan/Model-text-generation/commit/63e641635eec8717b217e57ccd838b0722f7537a', commit_message='Upload tokenizer', commit_description='', oid='63e641635eec8717b217e57ccd838b0722f7537a', pr_url=None, pr_revision=None, pr_num=None)"
            ]
          },
          "execution_count": 23,
          "metadata": {},
          "output_type": "execute_result"
        }
      ],
      "source": [
        "sft_trainer.push_to_hub(os.getenv(\"WANDB_NAME\"))\n",
        "tokenizer.push_to_hub(os.getenv(\"WANDB_NAME\"))"
      ]
    },
    {
      "cell_type": "code",
      "execution_count": null,
      "id": "1095c75a",
      "metadata": {
        "execution": {
          "iopub.execute_input": "2024-01-21T00:10:11.841486Z",
          "iopub.status.busy": "2024-01-21T00:10:11.840861Z",
          "iopub.status.idle": "2024-01-21T00:10:12.196188Z",
          "shell.execute_reply": "2024-01-21T00:10:12.195272Z"
        },
        "papermill": {
          "duration": 0.381417,
          "end_time": "2024-01-21T00:10:12.198159",
          "exception": false,
          "start_time": "2024-01-21T00:10:11.816742",
          "status": "completed"
        },
        "tags": [],
        "id": "1095c75a"
      },
      "outputs": [],
      "source": [
        "del sft_trainer, tokenizer\n",
        "torch.cuda.empty_cache()"
      ]
    },
    {
      "cell_type": "markdown",
      "source": [
        "Model Inference"
      ],
      "metadata": {
        "id": "KMp2VuYPGZSd"
      },
      "id": "KMp2VuYPGZSd"
    },
    {
      "cell_type": "code",
      "execution_count": null,
      "id": "7f6cafc1",
      "metadata": {
        "execution": {
          "iopub.execute_input": "2024-01-21T00:10:12.246281Z",
          "iopub.status.busy": "2024-01-21T00:10:12.245989Z",
          "iopub.status.idle": "2024-01-21T00:10:15.662563Z",
          "shell.execute_reply": "2024-01-21T00:10:15.661763Z"
        },
        "papermill": {
          "duration": 3.442636,
          "end_time": "2024-01-21T00:10:15.664848",
          "exception": false,
          "start_time": "2024-01-21T00:10:12.222212",
          "status": "completed"
        },
        "tags": [],
        "id": "7f6cafc1"
      },
      "outputs": [],
      "source": [
        "from peft import PeftConfig, PeftModel\n",
        "from transformers import AutoModelForCausalLM\n",
        "\n",
        "peft_model_name=\"/kaggle/working/Model-text-generation\"\n",
        "\n",
        "peft_config=PeftConfig.from_pretrained(peft_model_name)\n",
        "base_model=AutoModelForCausalLM.from_pretrained(peft_config.base_model_name_or_path)\n",
        "\n",
        "peft_model=PeftModel.from_pretrained(base_model, peft_model_name)"
      ]
    },
    {
      "cell_type": "code",
      "execution_count": null,
      "id": "b771e15f",
      "metadata": {
        "execution": {
          "iopub.execute_input": "2024-01-21T00:10:15.712671Z",
          "iopub.status.busy": "2024-01-21T00:10:15.712392Z",
          "iopub.status.idle": "2024-01-21T00:10:16.679211Z",
          "shell.execute_reply": "2024-01-21T00:10:16.678367Z"
        },
        "papermill": {
          "duration": 0.993302,
          "end_time": "2024-01-21T00:10:16.681710",
          "exception": false,
          "start_time": "2024-01-21T00:10:15.688408",
          "status": "completed"
        },
        "tags": [],
        "id": "b771e15f"
      },
      "outputs": [],
      "source": [
        "from transformers import AutoTokenizer\n",
        "\n",
        "tokenizer=AutoTokenizer.from_pretrained(peft_config.base_model_name_or_path)"
      ]
    },
    {
      "cell_type": "code",
      "execution_count": null,
      "id": "32b2c432",
      "metadata": {
        "execution": {
          "iopub.execute_input": "2024-01-21T00:10:16.729989Z",
          "iopub.status.busy": "2024-01-21T00:10:16.729660Z",
          "iopub.status.idle": "2024-01-21T00:10:16.734499Z",
          "shell.execute_reply": "2024-01-21T00:10:16.733690Z"
        },
        "papermill": {
          "duration": 0.031085,
          "end_time": "2024-01-21T00:10:16.736404",
          "exception": false,
          "start_time": "2024-01-21T00:10:16.705319",
          "status": "completed"
        },
        "tags": [],
        "id": "32b2c432"
      },
      "outputs": [],
      "source": [
        "prompt=\"I good in football but\"\n",
        "inputs=tokenizer(prompt, return_tensors=\"pt\")"
      ]
    },
    {
      "cell_type": "code",
      "execution_count": null,
      "id": "b6569cb6",
      "metadata": {
        "execution": {
          "iopub.execute_input": "2024-01-21T00:10:16.783971Z",
          "iopub.status.busy": "2024-01-21T00:10:16.783633Z",
          "iopub.status.idle": "2024-01-21T00:10:18.865768Z",
          "shell.execute_reply": "2024-01-21T00:10:18.864860Z"
        },
        "papermill": {
          "duration": 2.108657,
          "end_time": "2024-01-21T00:10:18.868286",
          "exception": false,
          "start_time": "2024-01-21T00:10:16.759629",
          "status": "completed"
        },
        "tags": [],
        "id": "b6569cb6",
        "outputId": "f9291b6a-31cf-452b-be06-12af88bb7287"
      },
      "outputs": [
        {
          "name": "stderr",
          "output_type": "stream",
          "text": [
            "/opt/conda/lib/python3.10/site-packages/transformers/generation/utils.py:1355: UserWarning: Using the model-agnostic default `max_length` (=20) to control the generation length. We recommend setting `max_new_tokens` to control the maximum length of the generation.\n",
            "  warnings.warn(\n"
          ]
        }
      ],
      "source": [
        "outputs=peft_model.generate(**inputs)"
      ]
    },
    {
      "cell_type": "code",
      "execution_count": null,
      "id": "fdb7e6b2",
      "metadata": {
        "execution": {
          "iopub.execute_input": "2024-01-21T00:10:18.918242Z",
          "iopub.status.busy": "2024-01-21T00:10:18.917930Z",
          "iopub.status.idle": "2024-01-21T00:10:18.924383Z",
          "shell.execute_reply": "2024-01-21T00:10:18.923501Z"
        },
        "papermill": {
          "duration": 0.032938,
          "end_time": "2024-01-21T00:10:18.926302",
          "exception": false,
          "start_time": "2024-01-21T00:10:18.893364",
          "status": "completed"
        },
        "tags": [],
        "id": "fdb7e6b2",
        "outputId": "94a15ae4-b937-4c53-983f-73888b3c9374"
      },
      "outputs": [
        {
          "data": {
            "text/plain": [
              "['I good in football but I am not a fan of the game. I like the game but I']"
            ]
          },
          "execution_count": 29,
          "metadata": {},
          "output_type": "execute_result"
        }
      ],
      "source": [
        "tokenizer.batch_decode(outputs, skip_special_token=True)"
      ]
    }
  ],
  "metadata": {
    "kaggle": {
      "accelerator": "nvidiaTeslaT4",
      "dataSources": [],
      "dockerImageVersionId": 30636,
      "isGpuEnabled": true,
      "isInternetEnabled": true,
      "language": "python",
      "sourceType": "notebook"
    },
    "kernelspec": {
      "display_name": "Python 3",
      "language": "python",
      "name": "python3"
    },
    "language_info": {
      "codemirror_mode": {
        "name": "ipython",
        "version": 3
      },
      "file_extension": ".py",
      "mimetype": "text/x-python",
      "name": "python",
      "nbconvert_exporter": "python",
      "pygments_lexer": "ipython3",
      "version": "3.10.12"
    },
    "papermill": {
      "default_parameters": {},
      "duration": 22891.408501,
      "end_time": "2024-01-21T00:10:21.972042",
      "environment_variables": {},
      "exception": null,
      "input_path": "__notebook__.ipynb",
      "output_path": "__notebook__.ipynb",
      "parameters": {},
      "start_time": "2024-01-20T17:48:50.563541",
      "version": "2.4.0"
    },
    "colab": {
      "provenance": []
    }
  },
  "nbformat": 4,
  "nbformat_minor": 5
}